{
 "cells": [
  {
   "cell_type": "markdown",
   "metadata": {},
   "source": [
    "# Durge Sanjeev"
   ]
  },
  {
   "cell_type": "markdown",
   "metadata": {},
   "source": [
    "# Lets Grow More"
   ]
  },
  {
   "cell_type": "markdown",
   "metadata": {},
   "source": [
    "# 1) Exploratory Data Analysis on Dataset - Terrorism "
   ]
  },
  {
   "cell_type": "markdown",
   "metadata": {},
   "source": [
    "# Intermidate level"
   ]
  },
  {
   "cell_type": "markdown",
   "metadata": {},
   "source": [
    "1) Exploratory Data Analysis on Dataset - Terrorism \n",
    "\n",
    "As a security/defense analyst, try to find out the hot zone of terrorism.\n",
    "\n",
    "You can choose any of the tool of your choice  \n",
    "\n",
    "(Python/R/Tableau/PowerBI/Excel/SAP/SAS) \n",
    "\n",
    "Dataset: https://bit.ly/2TK5Xn5"
   ]
  },
  {
   "cell_type": "code",
   "execution_count": 3,
   "metadata": {},
   "outputs": [],
   "source": [
    "import pandas as pd\n",
    "import numpy as np\n",
    "import seaborn as sns\n",
    "import matplotlib.pyplot as plt"
   ]
  },
  {
   "cell_type": "code",
   "execution_count": 4,
   "metadata": {},
   "outputs": [],
   "source": [
    "import warnings\n",
    "warnings.filterwarnings(\"ignore\", message=\"numpy.dtype size changed\")\n",
    "warnings.filterwarnings(\"ignore\", message=\"numpy.ufunc size changed\") "
   ]
  },
  {
   "cell_type": "code",
   "execution_count": 5,
   "metadata": {},
   "outputs": [
    {
     "data": {
      "text/html": [
       "<div>\n",
       "<style scoped>\n",
       "    .dataframe tbody tr th:only-of-type {\n",
       "        vertical-align: middle;\n",
       "    }\n",
       "\n",
       "    .dataframe tbody tr th {\n",
       "        vertical-align: top;\n",
       "    }\n",
       "\n",
       "    .dataframe thead th {\n",
       "        text-align: right;\n",
       "    }\n",
       "</style>\n",
       "<table border=\"1\" class=\"dataframe\">\n",
       "  <thead>\n",
       "    <tr style=\"text-align: right;\">\n",
       "      <th></th>\n",
       "      <th>eventid</th>\n",
       "      <th>iyear</th>\n",
       "      <th>imonth</th>\n",
       "      <th>iday</th>\n",
       "      <th>approxdate</th>\n",
       "      <th>extended</th>\n",
       "      <th>resolution</th>\n",
       "      <th>country</th>\n",
       "      <th>country_txt</th>\n",
       "      <th>region</th>\n",
       "      <th>...</th>\n",
       "      <th>addnotes</th>\n",
       "      <th>scite1</th>\n",
       "      <th>scite2</th>\n",
       "      <th>scite3</th>\n",
       "      <th>dbsource</th>\n",
       "      <th>INT_LOG</th>\n",
       "      <th>INT_IDEO</th>\n",
       "      <th>INT_MISC</th>\n",
       "      <th>INT_ANY</th>\n",
       "      <th>related</th>\n",
       "    </tr>\n",
       "  </thead>\n",
       "  <tbody>\n",
       "    <tr>\n",
       "      <th>0</th>\n",
       "      <td>197000000001</td>\n",
       "      <td>1970</td>\n",
       "      <td>7</td>\n",
       "      <td>2</td>\n",
       "      <td>NaN</td>\n",
       "      <td>0</td>\n",
       "      <td>NaN</td>\n",
       "      <td>58</td>\n",
       "      <td>Dominican Republic</td>\n",
       "      <td>2</td>\n",
       "      <td>...</td>\n",
       "      <td>NaN</td>\n",
       "      <td>NaN</td>\n",
       "      <td>NaN</td>\n",
       "      <td>NaN</td>\n",
       "      <td>PGIS</td>\n",
       "      <td>0</td>\n",
       "      <td>0</td>\n",
       "      <td>0</td>\n",
       "      <td>0</td>\n",
       "      <td>NaN</td>\n",
       "    </tr>\n",
       "    <tr>\n",
       "      <th>1</th>\n",
       "      <td>197000000002</td>\n",
       "      <td>1970</td>\n",
       "      <td>0</td>\n",
       "      <td>0</td>\n",
       "      <td>NaN</td>\n",
       "      <td>0</td>\n",
       "      <td>NaN</td>\n",
       "      <td>130</td>\n",
       "      <td>Mexico</td>\n",
       "      <td>1</td>\n",
       "      <td>...</td>\n",
       "      <td>NaN</td>\n",
       "      <td>NaN</td>\n",
       "      <td>NaN</td>\n",
       "      <td>NaN</td>\n",
       "      <td>PGIS</td>\n",
       "      <td>0</td>\n",
       "      <td>1</td>\n",
       "      <td>1</td>\n",
       "      <td>1</td>\n",
       "      <td>NaN</td>\n",
       "    </tr>\n",
       "    <tr>\n",
       "      <th>2</th>\n",
       "      <td>197001000001</td>\n",
       "      <td>1970</td>\n",
       "      <td>1</td>\n",
       "      <td>0</td>\n",
       "      <td>NaN</td>\n",
       "      <td>0</td>\n",
       "      <td>NaN</td>\n",
       "      <td>160</td>\n",
       "      <td>Philippines</td>\n",
       "      <td>5</td>\n",
       "      <td>...</td>\n",
       "      <td>NaN</td>\n",
       "      <td>NaN</td>\n",
       "      <td>NaN</td>\n",
       "      <td>NaN</td>\n",
       "      <td>PGIS</td>\n",
       "      <td>-9</td>\n",
       "      <td>-9</td>\n",
       "      <td>1</td>\n",
       "      <td>1</td>\n",
       "      <td>NaN</td>\n",
       "    </tr>\n",
       "    <tr>\n",
       "      <th>3</th>\n",
       "      <td>197001000002</td>\n",
       "      <td>1970</td>\n",
       "      <td>1</td>\n",
       "      <td>0</td>\n",
       "      <td>NaN</td>\n",
       "      <td>0</td>\n",
       "      <td>NaN</td>\n",
       "      <td>78</td>\n",
       "      <td>Greece</td>\n",
       "      <td>8</td>\n",
       "      <td>...</td>\n",
       "      <td>NaN</td>\n",
       "      <td>NaN</td>\n",
       "      <td>NaN</td>\n",
       "      <td>NaN</td>\n",
       "      <td>PGIS</td>\n",
       "      <td>-9</td>\n",
       "      <td>-9</td>\n",
       "      <td>1</td>\n",
       "      <td>1</td>\n",
       "      <td>NaN</td>\n",
       "    </tr>\n",
       "    <tr>\n",
       "      <th>4</th>\n",
       "      <td>197001000003</td>\n",
       "      <td>1970</td>\n",
       "      <td>1</td>\n",
       "      <td>0</td>\n",
       "      <td>NaN</td>\n",
       "      <td>0</td>\n",
       "      <td>NaN</td>\n",
       "      <td>101</td>\n",
       "      <td>Japan</td>\n",
       "      <td>4</td>\n",
       "      <td>...</td>\n",
       "      <td>NaN</td>\n",
       "      <td>NaN</td>\n",
       "      <td>NaN</td>\n",
       "      <td>NaN</td>\n",
       "      <td>PGIS</td>\n",
       "      <td>-9</td>\n",
       "      <td>-9</td>\n",
       "      <td>1</td>\n",
       "      <td>1</td>\n",
       "      <td>NaN</td>\n",
       "    </tr>\n",
       "    <tr>\n",
       "      <th>5</th>\n",
       "      <td>197001010002</td>\n",
       "      <td>1970</td>\n",
       "      <td>1</td>\n",
       "      <td>1</td>\n",
       "      <td>NaN</td>\n",
       "      <td>0</td>\n",
       "      <td>NaN</td>\n",
       "      <td>217</td>\n",
       "      <td>United States</td>\n",
       "      <td>1</td>\n",
       "      <td>...</td>\n",
       "      <td>The Cairo Chief of Police, William Petersen, r...</td>\n",
       "      <td>\"Police Chief Quits,\" Washington Post, January...</td>\n",
       "      <td>\"Cairo Police Chief Quits; Decries Local 'Mili...</td>\n",
       "      <td>Christopher Hewitt, \"Political Violence and Te...</td>\n",
       "      <td>Hewitt Project</td>\n",
       "      <td>-9</td>\n",
       "      <td>-9</td>\n",
       "      <td>0</td>\n",
       "      <td>-9</td>\n",
       "      <td>NaN</td>\n",
       "    </tr>\n",
       "    <tr>\n",
       "      <th>6</th>\n",
       "      <td>197001020001</td>\n",
       "      <td>1970</td>\n",
       "      <td>1</td>\n",
       "      <td>2</td>\n",
       "      <td>NaN</td>\n",
       "      <td>0</td>\n",
       "      <td>NaN</td>\n",
       "      <td>218</td>\n",
       "      <td>Uruguay</td>\n",
       "      <td>3</td>\n",
       "      <td>...</td>\n",
       "      <td>NaN</td>\n",
       "      <td>NaN</td>\n",
       "      <td>NaN</td>\n",
       "      <td>NaN</td>\n",
       "      <td>PGIS</td>\n",
       "      <td>0</td>\n",
       "      <td>0</td>\n",
       "      <td>0</td>\n",
       "      <td>0</td>\n",
       "      <td>NaN</td>\n",
       "    </tr>\n",
       "    <tr>\n",
       "      <th>7</th>\n",
       "      <td>197001020002</td>\n",
       "      <td>1970</td>\n",
       "      <td>1</td>\n",
       "      <td>2</td>\n",
       "      <td>NaN</td>\n",
       "      <td>0</td>\n",
       "      <td>NaN</td>\n",
       "      <td>217</td>\n",
       "      <td>United States</td>\n",
       "      <td>1</td>\n",
       "      <td>...</td>\n",
       "      <td>Damages were estimated to be between $20,000-$...</td>\n",
       "      <td>Committee on Government Operations United Stat...</td>\n",
       "      <td>Christopher Hewitt, \"Political Violence and Te...</td>\n",
       "      <td>NaN</td>\n",
       "      <td>Hewitt Project</td>\n",
       "      <td>-9</td>\n",
       "      <td>-9</td>\n",
       "      <td>0</td>\n",
       "      <td>-9</td>\n",
       "      <td>NaN</td>\n",
       "    </tr>\n",
       "    <tr>\n",
       "      <th>8</th>\n",
       "      <td>197001020003</td>\n",
       "      <td>1970</td>\n",
       "      <td>1</td>\n",
       "      <td>2</td>\n",
       "      <td>NaN</td>\n",
       "      <td>0</td>\n",
       "      <td>NaN</td>\n",
       "      <td>217</td>\n",
       "      <td>United States</td>\n",
       "      <td>1</td>\n",
       "      <td>...</td>\n",
       "      <td>The New Years Gang issue a communiqué to a loc...</td>\n",
       "      <td>Tom Bates, \"Rads: The 1970 Bombing of the Army...</td>\n",
       "      <td>David Newman, Sandra Sutherland, and Jon Stewa...</td>\n",
       "      <td>The Wisconsin Cartographers' Guild, \"Wisconsin...</td>\n",
       "      <td>Hewitt Project</td>\n",
       "      <td>0</td>\n",
       "      <td>0</td>\n",
       "      <td>0</td>\n",
       "      <td>0</td>\n",
       "      <td>NaN</td>\n",
       "    </tr>\n",
       "    <tr>\n",
       "      <th>9</th>\n",
       "      <td>197001030001</td>\n",
       "      <td>1970</td>\n",
       "      <td>1</td>\n",
       "      <td>3</td>\n",
       "      <td>NaN</td>\n",
       "      <td>0</td>\n",
       "      <td>NaN</td>\n",
       "      <td>217</td>\n",
       "      <td>United States</td>\n",
       "      <td>1</td>\n",
       "      <td>...</td>\n",
       "      <td>Karl Armstrong's girlfriend, Lynn Schultz, dro...</td>\n",
       "      <td>Committee on Government Operations United Stat...</td>\n",
       "      <td>Tom Bates, \"Rads: The 1970 Bombing of the Army...</td>\n",
       "      <td>David Newman, Sandra Sutherland, and Jon Stewa...</td>\n",
       "      <td>Hewitt Project</td>\n",
       "      <td>0</td>\n",
       "      <td>0</td>\n",
       "      <td>0</td>\n",
       "      <td>0</td>\n",
       "      <td>NaN</td>\n",
       "    </tr>\n",
       "  </tbody>\n",
       "</table>\n",
       "<p>10 rows × 135 columns</p>\n",
       "</div>"
      ],
      "text/plain": [
       "        eventid  iyear  imonth  iday approxdate  extended resolution  country  \\\n",
       "0  197000000001   1970       7     2        NaN         0        NaN       58   \n",
       "1  197000000002   1970       0     0        NaN         0        NaN      130   \n",
       "2  197001000001   1970       1     0        NaN         0        NaN      160   \n",
       "3  197001000002   1970       1     0        NaN         0        NaN       78   \n",
       "4  197001000003   1970       1     0        NaN         0        NaN      101   \n",
       "5  197001010002   1970       1     1        NaN         0        NaN      217   \n",
       "6  197001020001   1970       1     2        NaN         0        NaN      218   \n",
       "7  197001020002   1970       1     2        NaN         0        NaN      217   \n",
       "8  197001020003   1970       1     2        NaN         0        NaN      217   \n",
       "9  197001030001   1970       1     3        NaN         0        NaN      217   \n",
       "\n",
       "          country_txt  region  ...  \\\n",
       "0  Dominican Republic       2  ...   \n",
       "1              Mexico       1  ...   \n",
       "2         Philippines       5  ...   \n",
       "3              Greece       8  ...   \n",
       "4               Japan       4  ...   \n",
       "5       United States       1  ...   \n",
       "6             Uruguay       3  ...   \n",
       "7       United States       1  ...   \n",
       "8       United States       1  ...   \n",
       "9       United States       1  ...   \n",
       "\n",
       "                                            addnotes  \\\n",
       "0                                                NaN   \n",
       "1                                                NaN   \n",
       "2                                                NaN   \n",
       "3                                                NaN   \n",
       "4                                                NaN   \n",
       "5  The Cairo Chief of Police, William Petersen, r...   \n",
       "6                                                NaN   \n",
       "7  Damages were estimated to be between $20,000-$...   \n",
       "8  The New Years Gang issue a communiqué to a loc...   \n",
       "9  Karl Armstrong's girlfriend, Lynn Schultz, dro...   \n",
       "\n",
       "                                              scite1  \\\n",
       "0                                                NaN   \n",
       "1                                                NaN   \n",
       "2                                                NaN   \n",
       "3                                                NaN   \n",
       "4                                                NaN   \n",
       "5  \"Police Chief Quits,\" Washington Post, January...   \n",
       "6                                                NaN   \n",
       "7  Committee on Government Operations United Stat...   \n",
       "8  Tom Bates, \"Rads: The 1970 Bombing of the Army...   \n",
       "9  Committee on Government Operations United Stat...   \n",
       "\n",
       "                                              scite2  \\\n",
       "0                                                NaN   \n",
       "1                                                NaN   \n",
       "2                                                NaN   \n",
       "3                                                NaN   \n",
       "4                                                NaN   \n",
       "5  \"Cairo Police Chief Quits; Decries Local 'Mili...   \n",
       "6                                                NaN   \n",
       "7  Christopher Hewitt, \"Political Violence and Te...   \n",
       "8  David Newman, Sandra Sutherland, and Jon Stewa...   \n",
       "9  Tom Bates, \"Rads: The 1970 Bombing of the Army...   \n",
       "\n",
       "                                              scite3        dbsource  INT_LOG  \\\n",
       "0                                                NaN            PGIS        0   \n",
       "1                                                NaN            PGIS        0   \n",
       "2                                                NaN            PGIS       -9   \n",
       "3                                                NaN            PGIS       -9   \n",
       "4                                                NaN            PGIS       -9   \n",
       "5  Christopher Hewitt, \"Political Violence and Te...  Hewitt Project       -9   \n",
       "6                                                NaN            PGIS        0   \n",
       "7                                                NaN  Hewitt Project       -9   \n",
       "8  The Wisconsin Cartographers' Guild, \"Wisconsin...  Hewitt Project        0   \n",
       "9  David Newman, Sandra Sutherland, and Jon Stewa...  Hewitt Project        0   \n",
       "\n",
       "   INT_IDEO INT_MISC INT_ANY  related  \n",
       "0         0        0       0      NaN  \n",
       "1         1        1       1      NaN  \n",
       "2        -9        1       1      NaN  \n",
       "3        -9        1       1      NaN  \n",
       "4        -9        1       1      NaN  \n",
       "5        -9        0      -9      NaN  \n",
       "6         0        0       0      NaN  \n",
       "7        -9        0      -9      NaN  \n",
       "8         0        0       0      NaN  \n",
       "9         0        0       0      NaN  \n",
       "\n",
       "[10 rows x 135 columns]"
      ]
     },
     "execution_count": 5,
     "metadata": {},
     "output_type": "execute_result"
    }
   ],
   "source": [
    "ter_df= pd.read_csv('globalterrorismdb_0718dist.csv',encoding='ISO-8859-1',low_memory=False)\n",
    "ter_df.head(10)"
   ]
  },
  {
   "cell_type": "code",
   "execution_count": 6,
   "metadata": {
    "scrolled": true
   },
   "outputs": [
    {
     "name": "stdout",
     "output_type": "stream",
     "text": [
      "<class 'pandas.core.frame.DataFrame'>\n",
      "RangeIndex: 181691 entries, 0 to 181690\n",
      "Data columns (total 135 columns):\n",
      " #   Column              Dtype  \n",
      "---  ------              -----  \n",
      " 0   eventid             int64  \n",
      " 1   iyear               int64  \n",
      " 2   imonth              int64  \n",
      " 3   iday                int64  \n",
      " 4   approxdate          object \n",
      " 5   extended            int64  \n",
      " 6   resolution          object \n",
      " 7   country             int64  \n",
      " 8   country_txt         object \n",
      " 9   region              int64  \n",
      " 10  region_txt          object \n",
      " 11  provstate           object \n",
      " 12  city                object \n",
      " 13  latitude            float64\n",
      " 14  longitude           float64\n",
      " 15  specificity         float64\n",
      " 16  vicinity            int64  \n",
      " 17  location            object \n",
      " 18  summary             object \n",
      " 19  crit1               int64  \n",
      " 20  crit2               int64  \n",
      " 21  crit3               int64  \n",
      " 22  doubtterr           float64\n",
      " 23  alternative         float64\n",
      " 24  alternative_txt     object \n",
      " 25  multiple            float64\n",
      " 26  success             int64  \n",
      " 27  suicide             int64  \n",
      " 28  attacktype1         int64  \n",
      " 29  attacktype1_txt     object \n",
      " 30  attacktype2         float64\n",
      " 31  attacktype2_txt     object \n",
      " 32  attacktype3         float64\n",
      " 33  attacktype3_txt     object \n",
      " 34  targtype1           int64  \n",
      " 35  targtype1_txt       object \n",
      " 36  targsubtype1        float64\n",
      " 37  targsubtype1_txt    object \n",
      " 38  corp1               object \n",
      " 39  target1             object \n",
      " 40  natlty1             float64\n",
      " 41  natlty1_txt         object \n",
      " 42  targtype2           float64\n",
      " 43  targtype2_txt       object \n",
      " 44  targsubtype2        float64\n",
      " 45  targsubtype2_txt    object \n",
      " 46  corp2               object \n",
      " 47  target2             object \n",
      " 48  natlty2             float64\n",
      " 49  natlty2_txt         object \n",
      " 50  targtype3           float64\n",
      " 51  targtype3_txt       object \n",
      " 52  targsubtype3        float64\n",
      " 53  targsubtype3_txt    object \n",
      " 54  corp3               object \n",
      " 55  target3             object \n",
      " 56  natlty3             float64\n",
      " 57  natlty3_txt         object \n",
      " 58  gname               object \n",
      " 59  gsubname            object \n",
      " 60  gname2              object \n",
      " 61  gsubname2           object \n",
      " 62  gname3              object \n",
      " 63  gsubname3           object \n",
      " 64  motive              object \n",
      " 65  guncertain1         float64\n",
      " 66  guncertain2         float64\n",
      " 67  guncertain3         float64\n",
      " 68  individual          int64  \n",
      " 69  nperps              float64\n",
      " 70  nperpcap            float64\n",
      " 71  claimed             float64\n",
      " 72  claimmode           float64\n",
      " 73  claimmode_txt       object \n",
      " 74  claim2              float64\n",
      " 75  claimmode2          float64\n",
      " 76  claimmode2_txt      object \n",
      " 77  claim3              float64\n",
      " 78  claimmode3          float64\n",
      " 79  claimmode3_txt      object \n",
      " 80  compclaim           float64\n",
      " 81  weaptype1           int64  \n",
      " 82  weaptype1_txt       object \n",
      " 83  weapsubtype1        float64\n",
      " 84  weapsubtype1_txt    object \n",
      " 85  weaptype2           float64\n",
      " 86  weaptype2_txt       object \n",
      " 87  weapsubtype2        float64\n",
      " 88  weapsubtype2_txt    object \n",
      " 89  weaptype3           float64\n",
      " 90  weaptype3_txt       object \n",
      " 91  weapsubtype3        float64\n",
      " 92  weapsubtype3_txt    object \n",
      " 93  weaptype4           float64\n",
      " 94  weaptype4_txt       object \n",
      " 95  weapsubtype4        float64\n",
      " 96  weapsubtype4_txt    object \n",
      " 97  weapdetail          object \n",
      " 98  nkill               float64\n",
      " 99  nkillus             float64\n",
      " 100 nkillter            float64\n",
      " 101 nwound              float64\n",
      " 102 nwoundus            float64\n",
      " 103 nwoundte            float64\n",
      " 104 property            int64  \n",
      " 105 propextent          float64\n",
      " 106 propextent_txt      object \n",
      " 107 propvalue           float64\n",
      " 108 propcomment         object \n",
      " 109 ishostkid           float64\n",
      " 110 nhostkid            float64\n",
      " 111 nhostkidus          float64\n",
      " 112 nhours              float64\n",
      " 113 ndays               float64\n",
      " 114 divert              object \n",
      " 115 kidhijcountry       object \n",
      " 116 ransom              float64\n",
      " 117 ransomamt           float64\n",
      " 118 ransomamtus         float64\n",
      " 119 ransompaid          float64\n",
      " 120 ransompaidus        float64\n",
      " 121 ransomnote          object \n",
      " 122 hostkidoutcome      float64\n",
      " 123 hostkidoutcome_txt  object \n",
      " 124 nreleased           float64\n",
      " 125 addnotes            object \n",
      " 126 scite1              object \n",
      " 127 scite2              object \n",
      " 128 scite3              object \n",
      " 129 dbsource            object \n",
      " 130 INT_LOG             int64  \n",
      " 131 INT_IDEO            int64  \n",
      " 132 INT_MISC            int64  \n",
      " 133 INT_ANY             int64  \n",
      " 134 related             object \n",
      "dtypes: float64(55), int64(22), object(58)\n",
      "memory usage: 187.1+ MB\n"
     ]
    }
   ],
   "source": [
    "ter_df.info(1)      #we can see data types of columns and what are their count"
   ]
  },
  {
   "cell_type": "code",
   "execution_count": 7,
   "metadata": {},
   "outputs": [
    {
     "data": {
      "text/html": [
       "<div>\n",
       "<style scoped>\n",
       "    .dataframe tbody tr th:only-of-type {\n",
       "        vertical-align: middle;\n",
       "    }\n",
       "\n",
       "    .dataframe tbody tr th {\n",
       "        vertical-align: top;\n",
       "    }\n",
       "\n",
       "    .dataframe thead th {\n",
       "        text-align: right;\n",
       "    }\n",
       "</style>\n",
       "<table border=\"1\" class=\"dataframe\">\n",
       "  <thead>\n",
       "    <tr style=\"text-align: right;\">\n",
       "      <th></th>\n",
       "      <th>eventid</th>\n",
       "      <th>iyear</th>\n",
       "      <th>imonth</th>\n",
       "      <th>iday</th>\n",
       "      <th>extended</th>\n",
       "      <th>country</th>\n",
       "      <th>region</th>\n",
       "      <th>latitude</th>\n",
       "      <th>longitude</th>\n",
       "      <th>specificity</th>\n",
       "      <th>...</th>\n",
       "      <th>ransomamt</th>\n",
       "      <th>ransomamtus</th>\n",
       "      <th>ransompaid</th>\n",
       "      <th>ransompaidus</th>\n",
       "      <th>hostkidoutcome</th>\n",
       "      <th>nreleased</th>\n",
       "      <th>INT_LOG</th>\n",
       "      <th>INT_IDEO</th>\n",
       "      <th>INT_MISC</th>\n",
       "      <th>INT_ANY</th>\n",
       "    </tr>\n",
       "  </thead>\n",
       "  <tbody>\n",
       "    <tr>\n",
       "      <th>count</th>\n",
       "      <td>1.816910e+05</td>\n",
       "      <td>181691.000000</td>\n",
       "      <td>181691.000000</td>\n",
       "      <td>181691.000000</td>\n",
       "      <td>181691.000000</td>\n",
       "      <td>181691.000000</td>\n",
       "      <td>181691.000000</td>\n",
       "      <td>177135.000000</td>\n",
       "      <td>1.771340e+05</td>\n",
       "      <td>181685.000000</td>\n",
       "      <td>...</td>\n",
       "      <td>1.350000e+03</td>\n",
       "      <td>5.630000e+02</td>\n",
       "      <td>7.740000e+02</td>\n",
       "      <td>552.000000</td>\n",
       "      <td>10991.000000</td>\n",
       "      <td>10400.000000</td>\n",
       "      <td>181691.000000</td>\n",
       "      <td>181691.000000</td>\n",
       "      <td>181691.000000</td>\n",
       "      <td>181691.000000</td>\n",
       "    </tr>\n",
       "    <tr>\n",
       "      <th>mean</th>\n",
       "      <td>2.002705e+11</td>\n",
       "      <td>2002.638997</td>\n",
       "      <td>6.467277</td>\n",
       "      <td>15.505644</td>\n",
       "      <td>0.045346</td>\n",
       "      <td>131.968501</td>\n",
       "      <td>7.160938</td>\n",
       "      <td>23.498343</td>\n",
       "      <td>-4.586957e+02</td>\n",
       "      <td>1.451452</td>\n",
       "      <td>...</td>\n",
       "      <td>3.172530e+06</td>\n",
       "      <td>5.784865e+05</td>\n",
       "      <td>7.179437e+05</td>\n",
       "      <td>240.378623</td>\n",
       "      <td>4.629242</td>\n",
       "      <td>-29.018269</td>\n",
       "      <td>-4.543731</td>\n",
       "      <td>-4.464398</td>\n",
       "      <td>0.090010</td>\n",
       "      <td>-3.945952</td>\n",
       "    </tr>\n",
       "    <tr>\n",
       "      <th>std</th>\n",
       "      <td>1.325957e+09</td>\n",
       "      <td>13.259430</td>\n",
       "      <td>3.388303</td>\n",
       "      <td>8.814045</td>\n",
       "      <td>0.208063</td>\n",
       "      <td>112.414535</td>\n",
       "      <td>2.933408</td>\n",
       "      <td>18.569242</td>\n",
       "      <td>2.047790e+05</td>\n",
       "      <td>0.995430</td>\n",
       "      <td>...</td>\n",
       "      <td>3.021157e+07</td>\n",
       "      <td>7.077924e+06</td>\n",
       "      <td>1.014392e+07</td>\n",
       "      <td>2940.967293</td>\n",
       "      <td>2.035360</td>\n",
       "      <td>65.720119</td>\n",
       "      <td>4.543547</td>\n",
       "      <td>4.637152</td>\n",
       "      <td>0.568457</td>\n",
       "      <td>4.691325</td>\n",
       "    </tr>\n",
       "    <tr>\n",
       "      <th>min</th>\n",
       "      <td>1.970000e+11</td>\n",
       "      <td>1970.000000</td>\n",
       "      <td>0.000000</td>\n",
       "      <td>0.000000</td>\n",
       "      <td>0.000000</td>\n",
       "      <td>4.000000</td>\n",
       "      <td>1.000000</td>\n",
       "      <td>-53.154613</td>\n",
       "      <td>-8.618590e+07</td>\n",
       "      <td>1.000000</td>\n",
       "      <td>...</td>\n",
       "      <td>-9.900000e+01</td>\n",
       "      <td>-9.900000e+01</td>\n",
       "      <td>-9.900000e+01</td>\n",
       "      <td>-99.000000</td>\n",
       "      <td>1.000000</td>\n",
       "      <td>-99.000000</td>\n",
       "      <td>-9.000000</td>\n",
       "      <td>-9.000000</td>\n",
       "      <td>-9.000000</td>\n",
       "      <td>-9.000000</td>\n",
       "    </tr>\n",
       "    <tr>\n",
       "      <th>25%</th>\n",
       "      <td>1.991021e+11</td>\n",
       "      <td>1991.000000</td>\n",
       "      <td>4.000000</td>\n",
       "      <td>8.000000</td>\n",
       "      <td>0.000000</td>\n",
       "      <td>78.000000</td>\n",
       "      <td>5.000000</td>\n",
       "      <td>11.510046</td>\n",
       "      <td>4.545640e+00</td>\n",
       "      <td>1.000000</td>\n",
       "      <td>...</td>\n",
       "      <td>0.000000e+00</td>\n",
       "      <td>0.000000e+00</td>\n",
       "      <td>-9.900000e+01</td>\n",
       "      <td>0.000000</td>\n",
       "      <td>2.000000</td>\n",
       "      <td>-99.000000</td>\n",
       "      <td>-9.000000</td>\n",
       "      <td>-9.000000</td>\n",
       "      <td>0.000000</td>\n",
       "      <td>-9.000000</td>\n",
       "    </tr>\n",
       "    <tr>\n",
       "      <th>50%</th>\n",
       "      <td>2.009022e+11</td>\n",
       "      <td>2009.000000</td>\n",
       "      <td>6.000000</td>\n",
       "      <td>15.000000</td>\n",
       "      <td>0.000000</td>\n",
       "      <td>98.000000</td>\n",
       "      <td>6.000000</td>\n",
       "      <td>31.467463</td>\n",
       "      <td>4.324651e+01</td>\n",
       "      <td>1.000000</td>\n",
       "      <td>...</td>\n",
       "      <td>1.500000e+04</td>\n",
       "      <td>0.000000e+00</td>\n",
       "      <td>0.000000e+00</td>\n",
       "      <td>0.000000</td>\n",
       "      <td>4.000000</td>\n",
       "      <td>0.000000</td>\n",
       "      <td>-9.000000</td>\n",
       "      <td>-9.000000</td>\n",
       "      <td>0.000000</td>\n",
       "      <td>0.000000</td>\n",
       "    </tr>\n",
       "    <tr>\n",
       "      <th>75%</th>\n",
       "      <td>2.014081e+11</td>\n",
       "      <td>2014.000000</td>\n",
       "      <td>9.000000</td>\n",
       "      <td>23.000000</td>\n",
       "      <td>0.000000</td>\n",
       "      <td>160.000000</td>\n",
       "      <td>10.000000</td>\n",
       "      <td>34.685087</td>\n",
       "      <td>6.871033e+01</td>\n",
       "      <td>1.000000</td>\n",
       "      <td>...</td>\n",
       "      <td>4.000000e+05</td>\n",
       "      <td>0.000000e+00</td>\n",
       "      <td>1.273412e+03</td>\n",
       "      <td>0.000000</td>\n",
       "      <td>7.000000</td>\n",
       "      <td>1.000000</td>\n",
       "      <td>0.000000</td>\n",
       "      <td>0.000000</td>\n",
       "      <td>0.000000</td>\n",
       "      <td>0.000000</td>\n",
       "    </tr>\n",
       "    <tr>\n",
       "      <th>max</th>\n",
       "      <td>2.017123e+11</td>\n",
       "      <td>2017.000000</td>\n",
       "      <td>12.000000</td>\n",
       "      <td>31.000000</td>\n",
       "      <td>1.000000</td>\n",
       "      <td>1004.000000</td>\n",
       "      <td>12.000000</td>\n",
       "      <td>74.633553</td>\n",
       "      <td>1.793667e+02</td>\n",
       "      <td>5.000000</td>\n",
       "      <td>...</td>\n",
       "      <td>1.000000e+09</td>\n",
       "      <td>1.320000e+08</td>\n",
       "      <td>2.750000e+08</td>\n",
       "      <td>48000.000000</td>\n",
       "      <td>7.000000</td>\n",
       "      <td>2769.000000</td>\n",
       "      <td>1.000000</td>\n",
       "      <td>1.000000</td>\n",
       "      <td>1.000000</td>\n",
       "      <td>1.000000</td>\n",
       "    </tr>\n",
       "  </tbody>\n",
       "</table>\n",
       "<p>8 rows × 77 columns</p>\n",
       "</div>"
      ],
      "text/plain": [
       "            eventid          iyear         imonth           iday  \\\n",
       "count  1.816910e+05  181691.000000  181691.000000  181691.000000   \n",
       "mean   2.002705e+11    2002.638997       6.467277      15.505644   \n",
       "std    1.325957e+09      13.259430       3.388303       8.814045   \n",
       "min    1.970000e+11    1970.000000       0.000000       0.000000   \n",
       "25%    1.991021e+11    1991.000000       4.000000       8.000000   \n",
       "50%    2.009022e+11    2009.000000       6.000000      15.000000   \n",
       "75%    2.014081e+11    2014.000000       9.000000      23.000000   \n",
       "max    2.017123e+11    2017.000000      12.000000      31.000000   \n",
       "\n",
       "            extended        country         region       latitude  \\\n",
       "count  181691.000000  181691.000000  181691.000000  177135.000000   \n",
       "mean        0.045346     131.968501       7.160938      23.498343   \n",
       "std         0.208063     112.414535       2.933408      18.569242   \n",
       "min         0.000000       4.000000       1.000000     -53.154613   \n",
       "25%         0.000000      78.000000       5.000000      11.510046   \n",
       "50%         0.000000      98.000000       6.000000      31.467463   \n",
       "75%         0.000000     160.000000      10.000000      34.685087   \n",
       "max         1.000000    1004.000000      12.000000      74.633553   \n",
       "\n",
       "          longitude    specificity  ...     ransomamt   ransomamtus  \\\n",
       "count  1.771340e+05  181685.000000  ...  1.350000e+03  5.630000e+02   \n",
       "mean  -4.586957e+02       1.451452  ...  3.172530e+06  5.784865e+05   \n",
       "std    2.047790e+05       0.995430  ...  3.021157e+07  7.077924e+06   \n",
       "min   -8.618590e+07       1.000000  ... -9.900000e+01 -9.900000e+01   \n",
       "25%    4.545640e+00       1.000000  ...  0.000000e+00  0.000000e+00   \n",
       "50%    4.324651e+01       1.000000  ...  1.500000e+04  0.000000e+00   \n",
       "75%    6.871033e+01       1.000000  ...  4.000000e+05  0.000000e+00   \n",
       "max    1.793667e+02       5.000000  ...  1.000000e+09  1.320000e+08   \n",
       "\n",
       "         ransompaid  ransompaidus  hostkidoutcome     nreleased  \\\n",
       "count  7.740000e+02    552.000000    10991.000000  10400.000000   \n",
       "mean   7.179437e+05    240.378623        4.629242    -29.018269   \n",
       "std    1.014392e+07   2940.967293        2.035360     65.720119   \n",
       "min   -9.900000e+01    -99.000000        1.000000    -99.000000   \n",
       "25%   -9.900000e+01      0.000000        2.000000    -99.000000   \n",
       "50%    0.000000e+00      0.000000        4.000000      0.000000   \n",
       "75%    1.273412e+03      0.000000        7.000000      1.000000   \n",
       "max    2.750000e+08  48000.000000        7.000000   2769.000000   \n",
       "\n",
       "             INT_LOG       INT_IDEO       INT_MISC        INT_ANY  \n",
       "count  181691.000000  181691.000000  181691.000000  181691.000000  \n",
       "mean       -4.543731      -4.464398       0.090010      -3.945952  \n",
       "std         4.543547       4.637152       0.568457       4.691325  \n",
       "min        -9.000000      -9.000000      -9.000000      -9.000000  \n",
       "25%        -9.000000      -9.000000       0.000000      -9.000000  \n",
       "50%        -9.000000      -9.000000       0.000000       0.000000  \n",
       "75%         0.000000       0.000000       0.000000       0.000000  \n",
       "max         1.000000       1.000000       1.000000       1.000000  \n",
       "\n",
       "[8 rows x 77 columns]"
      ]
     },
     "execution_count": 7,
     "metadata": {},
     "output_type": "execute_result"
    }
   ],
   "source": [
    "ter_df.describe()"
   ]
  },
  {
   "cell_type": "code",
   "execution_count": 8,
   "metadata": {},
   "outputs": [
    {
     "data": {
      "text/plain": [
       "(181691, 135)"
      ]
     },
     "execution_count": 8,
     "metadata": {},
     "output_type": "execute_result"
    }
   ],
   "source": [
    "ter_df.shape"
   ]
  },
  {
   "cell_type": "code",
   "execution_count": 9,
   "metadata": {},
   "outputs": [
    {
     "data": {
      "text/plain": [
       "Index(['eventid', 'iyear', 'imonth', 'iday', 'approxdate', 'extended',\n",
       "       'resolution', 'country', 'country_txt', 'region',\n",
       "       ...\n",
       "       'addnotes', 'scite1', 'scite2', 'scite3', 'dbsource', 'INT_LOG',\n",
       "       'INT_IDEO', 'INT_MISC', 'INT_ANY', 'related'],\n",
       "      dtype='object', length=135)"
      ]
     },
     "execution_count": 9,
     "metadata": {},
     "output_type": "execute_result"
    }
   ],
   "source": [
    "ter_df.columns"
   ]
  },
  {
   "cell_type": "code",
   "execution_count": 10,
   "metadata": {},
   "outputs": [
    {
     "data": {
      "text/plain": [
       "eventid       181691\n",
       "iyear             47\n",
       "imonth            13\n",
       "iday              32\n",
       "approxdate      2244\n",
       "               ...  \n",
       "INT_LOG            3\n",
       "INT_IDEO           3\n",
       "INT_MISC           3\n",
       "INT_ANY            3\n",
       "related        14306\n",
       "Length: 135, dtype: int64"
      ]
     },
     "execution_count": 10,
     "metadata": {},
     "output_type": "execute_result"
    }
   ],
   "source": [
    "ter_df.nunique()                       #we see the unique values in rows"
   ]
  },
  {
   "cell_type": "code",
   "execution_count": 11,
   "metadata": {},
   "outputs": [
    {
     "data": {
      "text/plain": [
       "eventid            0\n",
       "iyear              0\n",
       "imonth             0\n",
       "iday               0\n",
       "approxdate    172452\n",
       "               ...  \n",
       "INT_LOG            0\n",
       "INT_IDEO           0\n",
       "INT_MISC           0\n",
       "INT_ANY            0\n",
       "related       156653\n",
       "Length: 135, dtype: int64"
      ]
     },
     "execution_count": 11,
     "metadata": {},
     "output_type": "execute_result"
    }
   ],
   "source": [
    "ter_df.isna().sum()         #data set is pretty much clean  because it has no null values"
   ]
  },
  {
   "cell_type": "code",
   "execution_count": 12,
   "metadata": {},
   "outputs": [],
   "source": [
    "# To analyse we dont need  all the columns some are unwanted so lets clean it"
   ]
  },
  {
   "cell_type": "code",
   "execution_count": 13,
   "metadata": {},
   "outputs": [],
   "source": [
    "ter_df.rename(columns={'iyear':'year','imonth':'month','iday':'day','country_txt':'Country','region_txt':'Region','gname':'Group','city':'City','latitude':'latitude','longitude':'longitude','location':'location','summary':'summary','attacktype1_txt':'Attacktype','targtype1_txt':'Targettype','weaptype1_txt':'Weapontype','nkill':'Kill','nwound':'wound','motive':'motive','provstate':'state'},inplace=True)"
   ]
  },
  {
   "cell_type": "markdown",
   "metadata": {},
   "source": [
    "## ter_df"
   ]
  },
  {
   "cell_type": "code",
   "execution_count": 132,
   "metadata": {},
   "outputs": [
    {
     "data": {
      "text/plain": [
       "Taliban                                             7478\n",
       "Islamic State of Iraq and the Levant (ISIL)         5613\n",
       "Shining Path (SL)                                   4555\n",
       "Farabundo Marti National Liberation Front (FMLN)    3351\n",
       "Al-Shabaab                                          3288\n",
       "New People's Army (NPA)                             2772\n",
       "Irish Republican Army (IRA)                         2671\n",
       "Revolutionary Armed Forces of Colombia (FARC)       2487\n",
       "Boko Haram                                          2418\n",
       "Kurdistan Workers' Party (PKK)                      2310\n",
       "Basque Fatherland and Freedom (ETA)                 2024\n",
       "Communist Party of India - Maoist (CPI-Maoist)      1878\n",
       "Maoists                                             1630\n",
       "Liberation Tigers of Tamil Eelam (LTTE)             1606\n",
       "National Liberation Army of Colombia (ELN)          1561\n",
       "Tehrik-i-Taliban Pakistan (TTP)                     1351\n",
       "Palestinians                                        1125\n",
       "Houthi extremists (Ansar Allah)                     1062\n",
       "Al-Qaida in the Arabian Peninsula (AQAP)            1020\n",
       "Nicaraguan Democratic Force (FDN)                    895\n",
       "Manuel Rodriguez Patriotic Front (FPMR)              830\n",
       "Sikh Extremists                                      716\n",
       "Corsican National Liberation Front (FLNC)            639\n",
       "Al-Qaida in Iraq                                     638\n",
       "Muslim extremists                                    632\n",
       "Donetsk People's Republic                            624\n",
       "African National Congress (South Africa)             607\n",
       "Separatists                                          589\n",
       "Tupac Amaru Revolutionary Movement (MRTA)            557\n",
       "Name: Group, dtype: int64"
      ]
     },
     "execution_count": 132,
     "metadata": {},
     "output_type": "execute_result"
    }
   ],
   "source": [
    "ter_df.Group.value_counts()[1:30]"
   ]
  },
  {
   "cell_type": "code",
   "execution_count": 128,
   "metadata": {},
   "outputs": [
    {
     "data": {
      "text/plain": [
       "Text(0.5, 1.0, 'Active Terrorist Groups')"
      ]
     },
     "execution_count": 128,
     "metadata": {},
     "output_type": "execute_result"
    },
    {
     "data": {
      "image/png": "[encoded data removed]",
      "text/plain": [
       "<Figure size 1080x360 with 1 Axes>"
      ]
     },
     "metadata": {
      "needs_background": "light"
     },
     "output_type": "display_data"
    }
   ],
   "source": [
    "plt.subplots(figsize=(15,5))\n",
    "sns.countplot(y='Group',data=ter_df,order=ter_df.Group.value_counts()[1:20].index,palette='Paired',orientation='horizontal').invert_yaxis()\n",
    "plt.title(\"Active Terrorist Groups\")"
   ]
  },
  {
   "cell_type": "markdown",
   "metadata": {},
   "source": [
    "clearly Al-Qaida is least active and Taliban is aggressive"
   ]
  },
  {
   "cell_type": "code",
   "execution_count": 131,
   "metadata": {
    "scrolled": true
   },
   "outputs": [
    {
     "data": {
      "text/plain": [
       "Text(0.5, 1.0, 'Attack Each Year')"
      ]
     },
     "execution_count": 131,
     "metadata": {},
     "output_type": "execute_result"
    },
    {
     "data": {
      "image/png": "[encoded data removed]",
      "text/plain": [
       "<Figure size 720x720 with 1 Axes>"
      ]
     },
     "metadata": {
      "needs_background": "light"
     },
     "output_type": "display_data"
    }
   ],
   "source": [
    "plt.subplots(figsize=(10,10))\n",
    "sns.countplot(x='year',data=ter_df,palette='Accent_r',orientation='vertical')\n",
    "plt.xticks(rotation=90)\n",
    "plt.title('Attack Each Year')"
   ]
  },
  {
   "cell_type": "markdown",
   "metadata": {},
   "source": [
    "from the graph above the peak level attacks occured in 2014 , 2015, 2016 "
   ]
  },
  {
   "cell_type": "markdown",
   "metadata": {},
   "source": [
    "and the least terroist attacks were in 1971"
   ]
  },
  {
   "cell_type": "code",
   "execution_count": 27,
   "metadata": {},
   "outputs": [
    {
     "data": {
      "text/plain": [
       "Taliban                                             7478\n",
       "Islamic State of Iraq and the Levant (ISIL)         5613\n",
       "Shining Path (SL)                                   4555\n",
       "Farabundo Marti National Liberation Front (FMLN)    3351\n",
       "Al-Shabaab                                          3288\n",
       "New People's Army (NPA)                             2772\n",
       "Irish Republican Army (IRA)                         2671\n",
       "Revolutionary Armed Forces of Colombia (FARC)       2487\n",
       "Boko Haram                                          2418\n",
       "Kurdistan Workers' Party (PKK)                      2310\n",
       "Basque Fatherland and Freedom (ETA)                 2024\n",
       "Communist Party of India - Maoist (CPI-Maoist)      1878\n",
       "Maoists                                             1630\n",
       "Liberation Tigers of Tamil Eelam (LTTE)             1606\n",
       "National Liberation Army of Colombia (ELN)          1561\n",
       "Tehrik-i-Taliban Pakistan (TTP)                     1351\n",
       "Palestinians                                        1125\n",
       "Houthi extremists (Ansar Allah)                     1062\n",
       "Al-Qaida in the Arabian Peninsula (AQAP)            1020\n",
       "Nicaraguan Democratic Force (FDN)                    895\n",
       "Manuel Rodriguez Patriotic Front (FPMR)              830\n",
       "Sikh Extremists                                      716\n",
       "Corsican National Liberation Front (FLNC)            639\n",
       "Al-Qaida in Iraq                                     638\n",
       "Muslim extremists                                    632\n",
       "Donetsk People's Republic                            624\n",
       "African National Congress (South Africa)             607\n",
       "Separatists                                          589\n",
       "Tupac Amaru Revolutionary Movement (MRTA)            557\n",
       "Name: Group, dtype: int64"
      ]
     },
     "execution_count": 27,
     "metadata": {},
     "output_type": "execute_result"
    }
   ],
   "source": []
  },
  {
   "cell_type": "code",
   "execution_count": 47,
   "metadata": {},
   "outputs": [
    {
     "data": {
      "text/plain": [
       "Text(0.5, 1.0, 'Active Terrorist Groups')"
      ]
     },
     "execution_count": 47,
     "metadata": {},
     "output_type": "execute_result"
    },
    {
     "data": {
      "image/png": "[encoded data removed]",
      "text/plain": [
       "<Figure size 1080x360 with 1 Axes>"
      ]
     },
     "metadata": {
      "needs_background": "light"
     },
     "output_type": "display_data"
    }
   ],
   "source": []
  },
  {
   "cell_type": "code",
   "execution_count": 50,
   "metadata": {},
   "outputs": [
    {
     "data": {
      "text/plain": [
       "Bombing/Explosion                      88255\n",
       "Armed Assault                          42669\n",
       "Assassination                          19312\n",
       "Hostage Taking (Kidnapping)            11158\n",
       "Facility/Infrastructure Attack         10356\n",
       "Unknown                                 7276\n",
       "Unarmed Assault                         1015\n",
       "Hostage Taking (Barricade Incident)      991\n",
       "Hijacking                                659\n",
       "Name: Attacktype, dtype: int64"
      ]
     },
     "execution_count": 50,
     "metadata": {},
     "output_type": "execute_result"
    }
   ],
   "source": [
    "a=ter_df.Attacktype.value_counts()\n",
    "a"
   ]
  },
  {
   "cell_type": "code",
   "execution_count": 59,
   "metadata": {},
   "outputs": [
    {
     "data": {
      "text/plain": [
       "Text(0.5, 1.0, 'Types of Attack')"
      ]
     },
     "execution_count": 59,
     "metadata": {},
     "output_type": "execute_result"
    },
    {
     "data": {
      "image/png": "[encoded data removed]",
      "text/plain": [
       "<Figure size 720x504 with 1 Axes>"
      ]
     },
     "metadata": {
      "needs_background": "light"
     },
     "output_type": "display_data"
    }
   ],
   "source": [
    "plt.subplots(figsize=(10,7))\n",
    "sns.countplot(x=\"Attacktype\",data=ter_df,order=ter_df.Attacktype.value_counts().index,palette='RdYlBu').invert_xaxis()\n",
    "plt.xticks(rotation=60)\n",
    "plt.title(\"Types of Attack\")"
   ]
  },
  {
   "cell_type": "code",
   "execution_count": 72,
   "metadata": {},
   "outputs": [
    {
     "data": {
      "image/png": "[encoded data removed]",
      "text/plain": [
       "<Figure size 864x504 with 1 Axes>"
      ]
     },
     "metadata": {
      "needs_background": "light"
     },
     "output_type": "display_data"
    }
   ],
   "source": [
    "plt.subplots(figsize=(12,7))\n",
    "sns.countplot(x=\"Targettype\",data=ter_df,order=ter_df.Targettype.value_counts().index).invert_xaxis()\n",
    "plt.xticks(rotation=80)\n",
    "plt.title(\"Target types\")\n",
    "plt.show()"
   ]
  },
  {
   "cell_type": "code",
   "execution_count": 75,
   "metadata": {},
   "outputs": [
    {
     "data": {
      "text/plain": [
       "Iraq              24636\n",
       "Pakistan          14368\n",
       "Afghanistan       12731\n",
       "India             11960\n",
       "Colombia           8306\n",
       "Philippines        6908\n",
       "Peru               6096\n",
       "El Salvador        5320\n",
       "United Kingdom     5235\n",
       "Turkey             4292\n",
       "Somalia            4142\n",
       "Nigeria            3907\n",
       "Thailand           3849\n",
       "Yemen              3347\n",
       "Spain              3249\n",
       "Sri Lanka          3022\n",
       "United States      2836\n",
       "Algeria            2743\n",
       "France             2693\n",
       "Egypt              2479\n",
       "Name: Country, dtype: int64"
      ]
     },
     "execution_count": 75,
     "metadata": {},
     "output_type": "execute_result"
    }
   ],
   "source": [
    "ter_df.Country.value_counts()[:20]"
   ]
  },
  {
   "cell_type": "code",
   "execution_count": 86,
   "metadata": {
    "scrolled": true
   },
   "outputs": [
    {
     "data": {
      "image/png": "[encoded data removed]",
      "text/plain": [
       "<Figure size 720x720 with 1 Axes>"
      ]
     },
     "metadata": {
      "needs_background": "light"
     },
     "output_type": "display_data"
    }
   ],
   "source": [
    "plt.subplots(figsize=(10,10))\n",
    "sns.countplot(x=\"Country\",data=ter_df,order=ter_df.Country.value_counts()[0:5].index,palette=\"RdYlGn\").invert_xaxis()\n",
    "plt.xticks(rotation=60)\n",
    "plt.title(\"Affected countries\")\n",
    "plt.show()\n"
   ]
  },
  {
   "cell_type": "code",
   "execution_count": 90,
   "metadata": {},
   "outputs": [
    {
     "data": {
      "text/plain": [
       "Text(0.5, 1.0, 'Injuries')"
      ]
     },
     "execution_count": 90,
     "metadata": {},
     "output_type": "execute_result"
    },
    {
     "data": {
      "image/png": "[encoded data removed]",
      "text/plain": [
       "<Figure size 720x360 with 1 Axes>"
      ]
     },
     "metadata": {
      "needs_background": "light"
     },
     "output_type": "display_data"
    }
   ],
   "source": [
    "plt.subplots(figsize=(10,5))\n",
    "sns.countplot(x=ter_df['wound'],order=ter_df.wound.value_counts()[0:5].index,palette='Set1',data=ter_df).invert_xaxis()\n",
    "plt.ylabel(\"Count\",size=10)\n",
    "plt.title('Injuries',size=20)"
   ]
  },
  {
   "cell_type": "code",
   "execution_count": 101,
   "metadata": {
    "scrolled": true
   },
   "outputs": [
    {
     "data": {
      "text/html": [
       "<div>\n",
       "<style scoped>\n",
       "    .dataframe tbody tr th:only-of-type {\n",
       "        vertical-align: middle;\n",
       "    }\n",
       "\n",
       "    .dataframe tbody tr th {\n",
       "        vertical-align: top;\n",
       "    }\n",
       "\n",
       "    .dataframe thead th {\n",
       "        text-align: right;\n",
       "    }\n",
       "</style>\n",
       "<table border=\"1\" class=\"dataframe\">\n",
       "  <thead>\n",
       "    <tr style=\"text-align: right;\">\n",
       "      <th></th>\n",
       "      <th>Kill</th>\n",
       "    </tr>\n",
       "    <tr>\n",
       "      <th>year</th>\n",
       "      <th></th>\n",
       "    </tr>\n",
       "  </thead>\n",
       "  <tbody>\n",
       "    <tr>\n",
       "      <th>1970</th>\n",
       "      <td>174.0</td>\n",
       "    </tr>\n",
       "    <tr>\n",
       "      <th>1971</th>\n",
       "      <td>173.0</td>\n",
       "    </tr>\n",
       "    <tr>\n",
       "      <th>1972</th>\n",
       "      <td>566.0</td>\n",
       "    </tr>\n",
       "    <tr>\n",
       "      <th>1973</th>\n",
       "      <td>370.0</td>\n",
       "    </tr>\n",
       "    <tr>\n",
       "      <th>1974</th>\n",
       "      <td>539.0</td>\n",
       "    </tr>\n",
       "    <tr>\n",
       "      <th>1975</th>\n",
       "      <td>617.0</td>\n",
       "    </tr>\n",
       "    <tr>\n",
       "      <th>1976</th>\n",
       "      <td>674.0</td>\n",
       "    </tr>\n",
       "    <tr>\n",
       "      <th>1977</th>\n",
       "      <td>456.0</td>\n",
       "    </tr>\n",
       "    <tr>\n",
       "      <th>1978</th>\n",
       "      <td>1459.0</td>\n",
       "    </tr>\n",
       "    <tr>\n",
       "      <th>1979</th>\n",
       "      <td>2100.0</td>\n",
       "    </tr>\n",
       "    <tr>\n",
       "      <th>1980</th>\n",
       "      <td>4400.0</td>\n",
       "    </tr>\n",
       "    <tr>\n",
       "      <th>1981</th>\n",
       "      <td>4851.0</td>\n",
       "    </tr>\n",
       "    <tr>\n",
       "      <th>1982</th>\n",
       "      <td>5136.0</td>\n",
       "    </tr>\n",
       "    <tr>\n",
       "      <th>1983</th>\n",
       "      <td>9444.0</td>\n",
       "    </tr>\n",
       "    <tr>\n",
       "      <th>1984</th>\n",
       "      <td>10450.0</td>\n",
       "    </tr>\n",
       "    <tr>\n",
       "      <th>1985</th>\n",
       "      <td>7094.0</td>\n",
       "    </tr>\n",
       "    <tr>\n",
       "      <th>1986</th>\n",
       "      <td>4976.0</td>\n",
       "    </tr>\n",
       "    <tr>\n",
       "      <th>1987</th>\n",
       "      <td>6482.0</td>\n",
       "    </tr>\n",
       "    <tr>\n",
       "      <th>1988</th>\n",
       "      <td>7208.0</td>\n",
       "    </tr>\n",
       "    <tr>\n",
       "      <th>1989</th>\n",
       "      <td>8152.0</td>\n",
       "    </tr>\n",
       "    <tr>\n",
       "      <th>1990</th>\n",
       "      <td>7148.0</td>\n",
       "    </tr>\n",
       "    <tr>\n",
       "      <th>1991</th>\n",
       "      <td>8429.0</td>\n",
       "    </tr>\n",
       "    <tr>\n",
       "      <th>1992</th>\n",
       "      <td>9742.0</td>\n",
       "    </tr>\n",
       "    <tr>\n",
       "      <th>1994</th>\n",
       "      <td>7690.0</td>\n",
       "    </tr>\n",
       "    <tr>\n",
       "      <th>1995</th>\n",
       "      <td>6103.0</td>\n",
       "    </tr>\n",
       "    <tr>\n",
       "      <th>1996</th>\n",
       "      <td>6966.0</td>\n",
       "    </tr>\n",
       "    <tr>\n",
       "      <th>1997</th>\n",
       "      <td>10924.0</td>\n",
       "    </tr>\n",
       "    <tr>\n",
       "      <th>1998</th>\n",
       "      <td>4688.0</td>\n",
       "    </tr>\n",
       "    <tr>\n",
       "      <th>1999</th>\n",
       "      <td>3393.0</td>\n",
       "    </tr>\n",
       "    <tr>\n",
       "      <th>2000</th>\n",
       "      <td>4403.0</td>\n",
       "    </tr>\n",
       "    <tr>\n",
       "      <th>2001</th>\n",
       "      <td>7729.0</td>\n",
       "    </tr>\n",
       "    <tr>\n",
       "      <th>2002</th>\n",
       "      <td>4805.0</td>\n",
       "    </tr>\n",
       "    <tr>\n",
       "      <th>2003</th>\n",
       "      <td>3317.0</td>\n",
       "    </tr>\n",
       "    <tr>\n",
       "      <th>2004</th>\n",
       "      <td>5743.0</td>\n",
       "    </tr>\n",
       "    <tr>\n",
       "      <th>2005</th>\n",
       "      <td>6331.0</td>\n",
       "    </tr>\n",
       "    <tr>\n",
       "      <th>2006</th>\n",
       "      <td>9380.0</td>\n",
       "    </tr>\n",
       "    <tr>\n",
       "      <th>2007</th>\n",
       "      <td>12824.0</td>\n",
       "    </tr>\n",
       "    <tr>\n",
       "      <th>2008</th>\n",
       "      <td>9157.0</td>\n",
       "    </tr>\n",
       "    <tr>\n",
       "      <th>2009</th>\n",
       "      <td>9273.0</td>\n",
       "    </tr>\n",
       "    <tr>\n",
       "      <th>2010</th>\n",
       "      <td>7827.0</td>\n",
       "    </tr>\n",
       "    <tr>\n",
       "      <th>2011</th>\n",
       "      <td>8246.0</td>\n",
       "    </tr>\n",
       "    <tr>\n",
       "      <th>2012</th>\n",
       "      <td>15497.0</td>\n",
       "    </tr>\n",
       "    <tr>\n",
       "      <th>2013</th>\n",
       "      <td>22273.0</td>\n",
       "    </tr>\n",
       "    <tr>\n",
       "      <th>2014</th>\n",
       "      <td>44490.0</td>\n",
       "    </tr>\n",
       "    <tr>\n",
       "      <th>2015</th>\n",
       "      <td>38853.0</td>\n",
       "    </tr>\n",
       "    <tr>\n",
       "      <th>2016</th>\n",
       "      <td>34871.0</td>\n",
       "    </tr>\n",
       "    <tr>\n",
       "      <th>2017</th>\n",
       "      <td>26445.0</td>\n",
       "    </tr>\n",
       "  </tbody>\n",
       "</table>\n",
       "</div>"
      ],
      "text/plain": [
       "         Kill\n",
       "year         \n",
       "1970    174.0\n",
       "1971    173.0\n",
       "1972    566.0\n",
       "1973    370.0\n",
       "1974    539.0\n",
       "1975    617.0\n",
       "1976    674.0\n",
       "1977    456.0\n",
       "1978   1459.0\n",
       "1979   2100.0\n",
       "1980   4400.0\n",
       "1981   4851.0\n",
       "1982   5136.0\n",
       "1983   9444.0\n",
       "1984  10450.0\n",
       "1985   7094.0\n",
       "1986   4976.0\n",
       "1987   6482.0\n",
       "1988   7208.0\n",
       "1989   8152.0\n",
       "1990   7148.0\n",
       "1991   8429.0\n",
       "1992   9742.0\n",
       "1994   7690.0\n",
       "1995   6103.0\n",
       "1996   6966.0\n",
       "1997  10924.0\n",
       "1998   4688.0\n",
       "1999   3393.0\n",
       "2000   4403.0\n",
       "2001   7729.0\n",
       "2002   4805.0\n",
       "2003   3317.0\n",
       "2004   5743.0\n",
       "2005   6331.0\n",
       "2006   9380.0\n",
       "2007  12824.0\n",
       "2008   9157.0\n",
       "2009   9273.0\n",
       "2010   7827.0\n",
       "2011   8246.0\n",
       "2012  15497.0\n",
       "2013  22273.0\n",
       "2014  44490.0\n",
       "2015  38853.0\n",
       "2016  34871.0\n",
       "2017  26445.0"
      ]
     },
     "execution_count": 101,
     "metadata": {},
     "output_type": "execute_result"
    }
   ],
   "source": [
    "peoplekilled = ter_df[['Kill',\"year\"]].groupby(['year']).sum()\n",
    "peoplekilled"
   ]
  },
  {
   "cell_type": "code",
   "execution_count": 102,
   "metadata": {
    "scrolled": true
   },
   "outputs": [
    {
     "data": {
      "text/plain": [
       "Kill    411868.0\n",
       "dtype: float64"
      ]
     },
     "execution_count": 102,
     "metadata": {},
     "output_type": "execute_result"
    }
   ],
   "source": [
    "peoplekilled.sum()"
   ]
  },
  {
   "cell_type": "code",
   "execution_count": 114,
   "metadata": {},
   "outputs": [
    {
     "data": {
      "text/plain": [
       "Text(0.5, 1.0, 'no. of people dead')"
      ]
     },
     "execution_count": 114,
     "metadata": {},
     "output_type": "execute_result"
    },
    {
     "data": {
      "image/png": "[encoded data removed]",
      "text/plain": [
       "<Figure size 1440x720 with 1 Axes>"
      ]
     },
     "metadata": {
      "needs_background": "light"
     },
     "output_type": "display_data"
    }
   ],
   "source": [
    "fig,axes = plt.subplots(figsize=(20,10))\n",
    "peoplekilled.plot(kind='bar',alpha=0.7,ax=axes,color='r',orientation='horizontal')\n",
    "plt.ylabel(\"No of people killed\",fontsize=20)\n",
    "plt.xlabel(\"Year\",fontsize=20)\n",
    "top_side= axes.spines[\"top\"]\n",
    "plt.title(\"no. of people dead\",fontsize=20)"
   ]
  },
  {
   "cell_type": "code",
   "execution_count": 118,
   "metadata": {},
   "outputs": [
    {
     "data": {
      "text/plain": [
       "<matplotlib.axes._subplots.AxesSubplot at 0x24499f8b9d0>"
      ]
     },
     "execution_count": 118,
     "metadata": {},
     "output_type": "execute_result"
    },
    {
     "data": {
      "image/png": "[encoded data removed]",
      "text/plain": [
       "<Figure size 1080x504 with 1 Axes>"
      ]
     },
     "metadata": {
      "needs_background": "light"
     },
     "output_type": "display_data"
    }
   ],
   "source": [
    "plt.subplots(figsize=(15,7))\n",
    "sns.countplot(y=ter_df[\"Region\"],data=ter_df,order=ter_df.Region.value_counts()[0:20].index,palette=\"Spectral\",orientation='horizontal')"
   ]
  },
  {
   "cell_type": "code",
   "execution_count": 123,
   "metadata": {},
   "outputs": [
    {
     "data": {
      "text/plain": [
       "<bound method Figure.tight_layout of <Figure size 1080x720 with 2 Axes>>"
      ]
     },
     "execution_count": 123,
     "metadata": {},
     "output_type": "execute_result"
    },
    {
     "data": {
      "image/png": "[encoded data removed]",
      "text/plain": [
       "<Figure size 1080x720 with 2 Axes>"
      ]
     },
     "metadata": {
      "needs_background": "light"
     },
     "output_type": "display_data"
    }
   ],
   "source": [
    "fig,axes=plt.subplots(figsize=(15,10),nrows=2,ncols=1)\n",
    "sns.barplot(x=ter_df[\"City\"].value_counts()[1:10].values,y=ter_df[\"City\"].value_counts()[1:10].index,ax=axes[1],palette=\"YlGn\");\n",
    "axes[1].set_title(\"Attack Per City\")\n",
    "sns.barplot(x=ter_df[\"Country\"].value_counts()[:10].values,y=ter_df[\"Country\"].value_counts()[:10].index,ax=axes[0],palette=\"Wistia\");\n",
    "axes[0].set_title(\"Attack Per Country\")\n",
    "fig.tight_layout"
   ]
  },
  {
   "cell_type": "code",
   "execution_count": null,
   "metadata": {},
   "outputs": [],
   "source": []
  }
 ],
 "metadata": {
  "kernelspec": {
   "display_name": "Python 3",
   "language": "python",
   "name": "python3"
  },
  "language_info": {
   "codemirror_mode": {
    "name": "ipython",
    "version": 3
   },
   "file_extension": ".py",
   "mimetype": "text/x-python",
   "name": "python",
   "nbconvert_exporter": "python",
   "pygments_lexer": "ipython3",
   "version": "3.8.3"
  }
 },
 "nbformat": 4,
 "nbformat_minor": 4
}
